{
 "cells": [
  {
   "cell_type": "code",
   "execution_count": null,
   "metadata": {},
   "outputs": [],
   "source": [
    "import numpy as np"
   ]
  },
  {
   "cell_type": "code",
   "execution_count": null,
   "metadata": {},
   "outputs": [],
   "source": [
    "class SudokuBoard:\n",
    "    def __init__(self):\n",
    "        self.board = np.zeros((6,6))\n",
    "        self.dim1 = 3\n",
    "        self.dim2 = 2\n",
    "        self.solutions = 0\n",
    "    def isValid(self)->bool:\n",
    "        #row\n",
    "        #column\n",
    "        #box\n",
    "        pass\n",
    "    def solve(self)->int:\n",
    "        pass\n",
    "        "
   ]
  },
  {
   "cell_type": "code",
   "execution_count": null,
   "metadata": {},
   "outputs": [],
   "source": [
    "def generateSudokus():\n",
    "    sudoku = np.zeros((6,6))\n",
    "    sudoku[0] = np.asarray([1,2,3,4,5,6])\n",
    "    sudoku[1] = np.asarray([4,5,6,0,0,0])\n",
    "    #pure\n",
    "    b3c2 = [3,6]\n",
    "    b5c2 = [1,4]\n",
    "    b3c3 = [1,4]\n",
    "    b5c3 = [2,5]\n",
    "    for i in range(16):\n",
    "        sudoku[2] = np.asarray([])\n",
    "    \n",
    "    #mixed\n",
    "    for i in range(64):\n",
    "        \n",
    "    \n",
    "    "
   ]
  },
  {
   "cell_type": "code",
   "execution_count": null,
   "metadata": {},
   "outputs": [],
   "source": [
    "sudoku = np.zeros((6,6))"
   ]
  }
 ],
 "metadata": {
  "kernelspec": {
   "display_name": "Python 3 (ipykernel)",
   "language": "python",
   "name": "python3"
  },
  "language_info": {
   "codemirror_mode": {
    "name": "ipython",
    "version": 3
   },
   "file_extension": ".py",
   "mimetype": "text/x-python",
   "name": "python",
   "nbconvert_exporter": "python",
   "pygments_lexer": "ipython3",
   "version": "3.8.3"
  }
 },
 "nbformat": 4,
 "nbformat_minor": 4
}
